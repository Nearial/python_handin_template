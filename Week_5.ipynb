{
 "cells": [
  {
   "cell_type": "markdown",
   "metadata": {},
   "source": [
    "# Week 5 handin"
   ]
  },
  {
   "cell_type": "markdown",
   "metadata": {},
   "source": [
    "## 01 Assignment\n",
    "## Ex1 Use data from Danmarks Statistik - Databanken\n",
    "1. Go to https://www.dst.dk/da/Statistik/brug-statistikken/muligheder-i-statistikbanken/api#testkonsol\n",
    "2. Open 'Konsol' and click 'Start Konsol'\n",
    "3. In the console at pt 1: choose 'Retrieve tables', pt 2: choose get request and json format and pt 3: execute:\n",
    "  1. check the result\n",
    "  2. in the code below this same get request is used to get information about all available data tables in 'databanken'. \n",
    "4. Change pt. 1 in the console to 'Retrieve data', pt 2: 'get request' and Table id: 'FOLK1A', format: csv, delimiter: semicolon and click: 'Variable and value codes' and choose some sub categories (Hint: hover over the codes to see their meaning). Finally execute and see what data you get.\n",
    "5. With data aggregation and data visualization answer the following questions:\n",
    "  1. What is the change in pct of divorced danes from 2008 to 2020?\n",
    "  2. Which of the 5 biggest cities has the highest percentage of 'Never Married' in 2020?\n",
    "  3. Show a bar chart of changes in marrital status in Copenhagen from 2008 till now\n",
    "  4. Show 2 plots in same figure: 'Married' and 'Never Married' for all ages in DK in 2020 (Hint: x axis is age from 0-125, y axis is how many people in the 2 categories). Add lengend to show names on graphs\n",
    "  \n",
    "## Ex2 Use another table (extra)\n",
    "Choose any of the other tables in 'databanken' to find interesting data.\n",
    "1. Collect the data\n",
    "2. Pose 5 or more interesing questions to the data\n",
    "3. Answer the questions by aggregating the data\n",
    "4. Illustrate the answers with visual plots"
   ]
  },
  {
   "cell_type": "markdown",
   "metadata": {},
   "source": [
    "## 02 Status\n",
    "All Mandatory tasks ar done"
   ]
  },
  {
   "cell_type": "markdown",
   "metadata": {},
   "source": [
    "## 03 Solution"
   ]
  },
  {
   "cell_type": "code",
   "execution_count": 96,
   "metadata": {},
   "outputs": [
    {
     "name": "stdout",
     "output_type": "stream",
     "text": [
      "2008: 428864\n",
      "2020: 552419\n",
      "Diff: 77.63%\n"
     ]
    }
   ],
   "source": [
    "# 1 https://api.statbank.dk/v1/data/FOLK1A/CSV?delimiter=Semicolon&CIVILSTAND=F&Tid=2008K1%2C2020K4\n",
    "import pandas as pd \n",
    "fcsv = 'data/FOLK1A-Fraskilt-2008-2020.csv'\n",
    "df = pd.read_csv(fcsv, sep=';')\n",
    "\n",
    "data_1 = df.iloc[0,2]\n",
    "data_2 = df.iloc[1,2]\n",
    "diff = round(data_1 / data_2 * 100, 2)\n",
    "\n",
    "print(\"2008: {data_1}\\n2020: {data_2}\\nDiff: {diff}%\".format(data_1 = data_1, data_2 = data_2, diff = diff))"
   ]
  },
  {
   "cell_type": "code",
   "execution_count": 97,
   "metadata": {},
   "outputs": [
    {
     "name": "stdout",
     "output_type": "stream",
     "text": [
      "{'Place': 'København', 'Population': 637936, 'Unmarried': 417782, 'Percentage': 65.49}\n"
     ]
    }
   ],
   "source": [
    "# 2 https://api.statbank.dk/v1/data/FOLK1A/CSV?delimiter=Semicolon&CIVILSTAND=U%2CTOT&Tid=2020K4&OMR%C3%85DE=101%2C851%2C751%2C630%2C461\n",
    "import pandas as pd\n",
    "\n",
    "fscv = 'data/FOLK1A-Ugift-Storby-2020.csv'\n",
    "df = pd.read_csv(fscv, sep=';')\n",
    "df = df.sort_values(by = \"OMRÅDE\")\n",
    "\n",
    "collected_data = []\n",
    "\n",
    "for index in range(0, len(df.index), 2):\n",
    "    place = df.iloc[index, 1]\n",
    "    population = df.iloc[index, 3]\n",
    "    unmarried = df.iloc[index + 1, 3]\n",
    "    unmarried_pct = round(unmarried / population * 100, 2)\n",
    "    \n",
    "    data = {\"Place\": place, \"Population\": population, \"Unmarried\": unmarried, \"Percentage\": unmarried_pct}\n",
    "    collected_data.append(data)\n",
    "    \n",
    "collected_data = sorted(collected_data, key = lambda x: x[\"Percentage\"], reverse = True)\n",
    "print(collected_data[0])"
   ]
  },
  {
   "cell_type": "code",
   "execution_count": 103,
   "metadata": {},
   "outputs": [
    {
     "data": {
      "text/plain": [
       "Text(0, 0.5, 'Antal gifte')"
      ]
     },
     "execution_count": 103,
     "metadata": {},
     "output_type": "execute_result"
    },
    {
     "data": {
      "image/png": "[encoded data removed]",
      "text/plain": [
       "<Figure size 720x360 with 1 Axes>"
      ]
     },
     "metadata": {
      "needs_background": "light"
     },
     "output_type": "display_data"
    }
   ],
   "source": [
    "# 3 https://api.statbank.dk/v1/data/FOLK1A/CSV?delimiter=Semicolon&OMR%C3%85DE=101&CIVILSTAND=G&Tid=2008K4%2C2009K4%2C2010K4%2C2011K4%2C2012K4%2C2013K4%2C2014K4%2C2015K4%2C2016K4%2C2017K4%2C2018K4%2C2019K4%2C2020K4%2C2021K1\n",
    "import pandas as pd\n",
    "import matplotlib.pyplot as plt\n",
    "\n",
    "fscv = 'data/FOLK1A-Marrital-Status-KBH.csv'\n",
    "df = pd.read_csv(fscv, sep=';')\n",
    "\n",
    "data = {}\n",
    "\n",
    "for index in range(0, len(df.index)):\n",
    "    data[df.iloc[index, 2]] = df.iloc[index, 3]\n",
    "    \n",
    "plt.figure(figsize=[10, 5])    \n",
    "plt.bar(data.keys(), data.values(), width = 0.5, align = \"edge\")\n",
    "plt.xticks(rotation = 90)\n",
    "plt.xlabel(\"År\", fontsize = 10)\n",
    "plt.ylabel(\"Antal gifte\", fontsize = 10)"
   ]
  },
  {
   "cell_type": "code",
   "execution_count": 99,
   "metadata": {},
   "outputs": [
    {
     "data": {
      "text/plain": [
       "<matplotlib.legend.Legend at 0x7f3cf69eb050>"
      ]
     },
     "execution_count": 99,
     "metadata": {},
     "output_type": "execute_result"
    },
    {
     "data": {
      "image/png": "[encoded data removed]",
      "text/plain": [
       "<Figure size 1440x720 with 1 Axes>"
      ]
     },
     "metadata": {
      "needs_background": "light"
     },
     "output_type": "display_data"
    }
   ],
   "source": [
    "# 4 https://api.statbank.dk/v1/data/FOLK1A/CSV?timeOrder=Ascending&delimiter=Semicolon&CIVILSTAND=U%2CG&ALDER=*&Tid=2020K4\n",
    "import pandas as pd\n",
    "import matplotlib.pyplot as plt\n",
    "\n",
    "fscv = 'data/FOLK1A-Married-Unmarried-2020.csv'\n",
    "df = pd.read_csv(fscv, sep=';')\n",
    "\n",
    "max_age = 125\n",
    "no_married_per_age = {}\n",
    "no_never_married_per_age = {}\n",
    "\n",
    "for index in range(1, max_age + 2):\n",
    "        age = index - 1\n",
    "        never_married = df.iloc[index, 3]\n",
    "        married = df.iloc[index + max_age + 2, 3]\n",
    "        \n",
    "        no_married_per_age[age] = married\n",
    "        no_never_married_per_age[age] = never_married\n",
    "        \n",
    "ages = list(no_married_per_age.keys())\n",
    "married_per_age = list(no_married_per_age.values())\n",
    "never_married_per_age = list(no_never_married_per_age.values())\n",
    "\n",
    "plt.figure(figsize=[20, 10])\n",
    "plt.xlabel(\"Alder\", fontsize = 10)\n",
    "plt.ylabel(\"Antal\", fontsize = 10)\n",
    "plt.tick_params(axis = 'both', which = 'major', labelsize = 10)\n",
    "    \n",
    "plt_married = plt.bar(ages, married_per_age, width = 0.5, linewidth = 0, align = \"center\", color = \"red\")\n",
    "plt_never_married = plt.bar(ages, never_married_per_age, width = 0.5, linewidth = 0, align = \"center\", color = \"blue\")\n",
    "    \n",
    "plt.legend([plt_married, plt_never_married], [\"Gift\", \"Aldrig gift\"], loc = 1)"
   ]
  }
 ],
 "metadata": {
  "kernelspec": {
   "display_name": "Python 3",
   "language": "python",
   "name": "python3"
  },
  "language_info": {
   "codemirror_mode": {
    "name": "ipython",
    "version": 3
   },
   "file_extension": ".py",
   "mimetype": "text/x-python",
   "name": "python",
   "nbconvert_exporter": "python",
   "pygments_lexer": "ipython3",
   "version": "3.7.6"
  }
 },
 "nbformat": 4,
 "nbformat_minor": 4
}
