{
 "cells": [
  {
   "cell_type": "markdown",
   "metadata": {},
   "source": [
    "# Week 10 handin"
   ]
  },
  {
   "cell_type": "markdown",
   "metadata": {},
   "source": [
    "## 01 Assignment\n",
    "1. load 'data/iris_data.csv' into a dataframe (use decimal=',') and remove the 2 `Petal` columns. Now we are left with a 2D feature space\n",
    "2. get unique labels (Species column)\n",
    "3. plot with a scatter plot each iris flower sample colored by label (3 different colors)\n",
    "![image.png](attachment:image.png)\n",
    "4. use: `MeanShift` and `estimate_bandwidth` from `sklearn.cluster` to first estimate bandwidth and then get the clusters (HINT: estimate_bandwidth() takes an argument: `quantile` set it to `0.2` for best result)\n",
    "5. print out labels, cluster centers and number of clusters (as returned from the MeanShift function)\n",
    "5. create a new scatter plot where each flower is colored according to cluster label\n",
    "6. add a dot for the cluster centers\n",
    "7. Compare the 2 plots (colored by actual labels vs. colored by cluster label)\n",
    "8. Try changing the 'quantile' argument to 0.15 and see what happens to your cluster plot."
   ]
  },
  {
   "cell_type": "markdown",
   "metadata": {},
   "source": [
    "## 02 Status\n",
    "\n",
    "Tasks were completed"
   ]
  },
  {
   "cell_type": "markdown",
   "metadata": {},
   "source": [
    "## 03 Solution"
   ]
  },
  {
   "cell_type": "code",
   "execution_count": 25,
   "metadata": {},
   "outputs": [
    {
     "data": {
      "text/html": [
       "<div>\n",
       "<style scoped>\n",
       "    .dataframe tbody tr th:only-of-type {\n",
       "        vertical-align: middle;\n",
       "    }\n",
       "\n",
       "    .dataframe tbody tr th {\n",
       "        vertical-align: top;\n",
       "    }\n",
       "\n",
       "    .dataframe thead th {\n",
       "        text-align: right;\n",
       "    }\n",
       "</style>\n",
       "<table border=\"1\" class=\"dataframe\">\n",
       "  <thead>\n",
       "    <tr style=\"text-align: right;\">\n",
       "      <th></th>\n",
       "      <th>Sepal length</th>\n",
       "      <th>Sepal width</th>\n",
       "      <th>Species</th>\n",
       "    </tr>\n",
       "  </thead>\n",
       "  <tbody>\n",
       "    <tr>\n",
       "      <th>0</th>\n",
       "      <td>5.1</td>\n",
       "      <td>3.5</td>\n",
       "      <td>I. setosa</td>\n",
       "    </tr>\n",
       "    <tr>\n",
       "      <th>1</th>\n",
       "      <td>4.9</td>\n",
       "      <td>3.0</td>\n",
       "      <td>I. setosa</td>\n",
       "    </tr>\n",
       "    <tr>\n",
       "      <th>2</th>\n",
       "      <td>4.7</td>\n",
       "      <td>3.2</td>\n",
       "      <td>I. setosa</td>\n",
       "    </tr>\n",
       "    <tr>\n",
       "      <th>3</th>\n",
       "      <td>4.6</td>\n",
       "      <td>3.1</td>\n",
       "      <td>I. setosa</td>\n",
       "    </tr>\n",
       "    <tr>\n",
       "      <th>4</th>\n",
       "      <td>5.0</td>\n",
       "      <td>3.6</td>\n",
       "      <td>I. setosa</td>\n",
       "    </tr>\n",
       "    <tr>\n",
       "      <th>...</th>\n",
       "      <td>...</td>\n",
       "      <td>...</td>\n",
       "      <td>...</td>\n",
       "    </tr>\n",
       "    <tr>\n",
       "      <th>145</th>\n",
       "      <td>6.7</td>\n",
       "      <td>3.0</td>\n",
       "      <td>I. virginica</td>\n",
       "    </tr>\n",
       "    <tr>\n",
       "      <th>146</th>\n",
       "      <td>6.3</td>\n",
       "      <td>2.5</td>\n",
       "      <td>I. virginica</td>\n",
       "    </tr>\n",
       "    <tr>\n",
       "      <th>147</th>\n",
       "      <td>6.5</td>\n",
       "      <td>3.0</td>\n",
       "      <td>I. virginica</td>\n",
       "    </tr>\n",
       "    <tr>\n",
       "      <th>148</th>\n",
       "      <td>6.2</td>\n",
       "      <td>3.4</td>\n",
       "      <td>I. virginica</td>\n",
       "    </tr>\n",
       "    <tr>\n",
       "      <th>149</th>\n",
       "      <td>5.9</td>\n",
       "      <td>3.0</td>\n",
       "      <td>I. virginica</td>\n",
       "    </tr>\n",
       "  </tbody>\n",
       "</table>\n",
       "<p>150 rows × 3 columns</p>\n",
       "</div>"
      ],
      "text/plain": [
       "     Sepal length  Sepal width       Species\n",
       "0             5.1          3.5     I. setosa\n",
       "1             4.9          3.0     I. setosa\n",
       "2             4.7          3.2     I. setosa\n",
       "3             4.6          3.1     I. setosa\n",
       "4             5.0          3.6     I. setosa\n",
       "..            ...          ...           ...\n",
       "145           6.7          3.0  I. virginica\n",
       "146           6.3          2.5  I. virginica\n",
       "147           6.5          3.0  I. virginica\n",
       "148           6.2          3.4  I. virginica\n",
       "149           5.9          3.0  I. virginica\n",
       "\n",
       "[150 rows x 3 columns]"
      ]
     },
     "execution_count": 25,
     "metadata": {},
     "output_type": "execute_result"
    }
   ],
   "source": [
    "import pandas as pd\n",
    "data = \"../../data/iris_data.csv\"\n",
    "df = pd.read_csv(data, decimal = ',')\n",
    "df.drop(['Petal length','Petal width'],'columns',inplace=True)\n",
    "df"
   ]
  },
  {
   "cell_type": "code",
   "execution_count": 26,
   "metadata": {},
   "outputs": [
    {
     "data": {
      "text/plain": [
       "array(['I. setosa', 'I. versicolor', 'I. virginica'], dtype=object)"
      ]
     },
     "execution_count": 26,
     "metadata": {},
     "output_type": "execute_result"
    }
   ],
   "source": [
    "import numpy as np\n",
    "\n",
    "species = np.unique(df[\"Species\"])\n",
    "\n",
    "species"
   ]
  },
  {
   "cell_type": "code",
   "execution_count": 27,
   "metadata": {},
   "outputs": [
    {
     "data": {
      "image/png": "[encoded data removed]",
      "text/plain": [
       "<Figure size 432x288 with 1 Axes>"
      ]
     },
     "metadata": {
      "needs_background": "light"
     },
     "output_type": "display_data"
    }
   ],
   "source": [
    "import matplotlib.pyplot as plt\n",
    "\n",
    "plt.figure()\n",
    "\n",
    "for s in species:\n",
    "    plt.scatter(x=df[\"Sepal length\"], y=df[\"Sepal width\"],s=(df[\"Species\"] == s) * 20)"
   ]
  },
  {
   "cell_type": "code",
   "execution_count": null,
   "metadata": {},
   "outputs": [],
   "source": [
    "df.drop(['Species'],'columns',inplace=True)"
   ]
  },
  {
   "cell_type": "code",
   "execution_count": 29,
   "metadata": {},
   "outputs": [
    {
     "name": "stdout",
     "output_type": "stream",
     "text": [
      "estimated bandwith: 0.4782250984532596\n",
      "labels:\n",
      " [1 1 1 1 1 1 1 1 1 1 1 1 1 1 1 1 1 1 1 1 1 1 1 1 1 1 1 1 1 1 1 1 1 1 1 1 1\n",
      " 1 1 1 1 3 1 1 1 1 1 1 1 1 2 0 2 3 0 0 0 3 0 3 3 0 0 0 0 0 0 0 0 3 0 0 0 0\n",
      " 0 0 2 0 0 0 3 3 0 0 1 0 0 0 0 3 3 0 0 3 0 0 0 0 3 0 0 0 2 0 0 2 3 2 0 4 0\n",
      " 0 2 0 0 0 0 4 2 0 2 0 2 0 0 2 0 0 0 2 2 4 0 0 0 2 0 0 0 2 0 2 0 2 0 0 0 0\n",
      " 0 0]\n",
      "\n",
      "\n",
      "Cluster centers:\n",
      " [[6.15333333 2.88666667]\n",
      " [4.96388889 3.375     ]\n",
      " [7.43333333 2.92222222]\n",
      " [4.94285714 2.38571429]\n",
      " [7.8        3.8       ]]\n",
      "\n",
      "\n",
      "number of clusters: 5\n"
     ]
    }
   ],
   "source": [
    "from sklearn import preprocessing\n",
    "from sklearn.cluster import MeanShift\n",
    "from sklearn.cluster import estimate_bandwidth\n",
    "\n",
    "estimate = estimate_bandwidth(df, quantile=0.15)\n",
    "print(\"estimated bandwith: \" + str(estimate))\n",
    "\n",
    "ms = MeanShift(estimate)\n",
    "ms.fit(df)\n",
    "labels = ms.labels_\n",
    "clusters = ms.cluster_centers_\n",
    "n_clusters = len(np.unique(labels))\n",
    "\n",
    "print('labels:\\n', labels)\n",
    "print('\\n\\nCluster centers:\\n', clusters)\n",
    "print('\\n\\nnumber of clusters:', n_clusters)"
   ]
  },
  {
   "cell_type": "code",
   "execution_count": 31,
   "metadata": {},
   "outputs": [
    {
     "data": {
      "text/plain": [
       "Text(0.5, 1.0, 'Estimated number of clusters: 5')"
      ]
     },
     "execution_count": 31,
     "metadata": {},
     "output_type": "execute_result"
    },
    {
     "data": {
      "image/png": "[encoded data removed]",
      "text/plain": [
       "<Figure size 432x288 with 1 Axes>"
      ]
     },
     "metadata": {
      "needs_background": "light"
     },
     "output_type": "display_data"
    }
   ],
   "source": [
    "from itertools import cycle\n",
    "from sklearn.datasets import make_blobs\n",
    "\n",
    "data2, _ = make_blobs(n_samples=len(df), centers=clusters, cluster_std=0.1)\n",
    "\n",
    "ms.fit(data2)\n",
    "labels = ms.labels_\n",
    "clusters = ms.cluster_centers_\n",
    "n_clusters = len(np.unique(labels))\n",
    "\n",
    "figure = plt.figure()\n",
    "ax = figure.add_subplot(111)\n",
    "\n",
    "colors = cycle('rgbyc')\n",
    "for k, col in zip(range(n_clusters), colors):\n",
    "    members = (labels == k)\n",
    "    cluster = clusters[k]\n",
    "    \n",
    "    x, y = data2[members,0], data2[members,1]\n",
    "    ax.scatter(x, y, c=col, linewidth=0.2)\n",
    "    \n",
    "    ax.scatter(cluster[0], cluster[1], c='k', s=50, linewidth=0.2)\n",
    "    \n",
    "plt.title('Estimated number of clusters: {}'.format(n_clusters))"
   ]
  }
 ],
 "metadata": {
  "kernelspec": {
   "display_name": "Python 3",
   "language": "python",
   "name": "python3"
  },
  "language_info": {
   "codemirror_mode": {
    "name": "ipython",
    "version": 3
   },
   "file_extension": ".py",
   "mimetype": "text/x-python",
   "name": "python",
   "nbconvert_exporter": "python",
   "pygments_lexer": "ipython3",
   "version": "3.7.6"
  }
 },
 "nbformat": 4,
 "nbformat_minor": 4
}
