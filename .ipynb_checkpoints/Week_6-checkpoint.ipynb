{
 "cells": [
  {
   "cell_type": "markdown",
   "metadata": {},
   "source": [
    "# Week 1 handin"
   ]
  },
  {
   "cell_type": "markdown",
   "metadata": {},
   "source": [
    "## 01 Assignment\n",
    "Create a module containing a class: TextComparer with the following methods:\n",
    "1. __init__(self, url_list)\n",
    "2. download(url,filename) raises NotFoundException when url returns 404\n",
    "3. multi_download() uses threads to download multiple urls as text and stores filenames as a property\n",
    "4. __iter__() returns an iterator\n",
    "5. __next__() returns the next filename (and stops when there are no more)\n",
    "6. urllist_generator() returns a generator to loop through the urls\n",
    "7. avg_vowels(text) - a rough estimate on readability returns average number of vowels in the words of the text\n",
    "8. hardest_read() returns the filename of the text with the highest vowel score (use all the cpu cores on the computer for this work.\n",
    "\n",
    "### Ex 2\n",
    "Create a notebook and import your module from above\n",
    "1. Find 10 books on https://www.gutenberg.org/browse/scores/top and download them using an object of the class you just created before\n",
    "2. Test the different methods of your class\n",
    "3. Make a bar plot with a sorted list of books on x-axis and avg vowels on y-axis"
   ]
  },
  {
   "cell_type": "markdown",
   "metadata": {},
   "source": [
    "## 02 Status\n",
    "Alle opgaver blev udført!"
   ]
  },
  {
   "cell_type": "markdown",
   "metadata": {},
   "source": [
    "## 03 Solution"
   ]
  },
  {
   "cell_type": "code",
   "execution_count": 1,
   "metadata": {
    "scrolled": true
   },
   "outputs": [],
   "source": [
    "from Week_6_Module import TextComparer as tc\n",
    "\n",
    "urllist = [\"https://www.gutenberg.org/files/64317/64317-h/64317-h.htm\", \"https://www.gutenberg.org/files/11/11-h/11-h.htm\", \"https://www.gutenberg.org/files/844/844-h/844-h.htm\", \"https://www.gutenberg.org/files/84/84-h/84-h.htm\", \"https://www.gutenberg.org/files/786/786-h/786-h.htm\", \"https://www.gutenberg.org/files/35/35-h/35-h.htm\", \"https://www.gutenberg.org/files/6130/6130-h/6130-h.htm\", \"https://www.gutenberg.org/files/16328/16328-h/16328-h.htm\", \"https://www.gutenberg.org/files/1184/1184-h/1184-h.htm\", \"https://www.gutenberg.org/files/135/135-h/135-h.htm\"]\n",
    "\n",
    "urls = tc(urllist)"
   ]
  },
  {
   "cell_type": "code",
   "execution_count": 2,
   "metadata": {
    "scrolled": true
   },
   "outputs": [
    {
     "name": "stdout",
     "output_type": "stream",
     "text": [
      "Files are downloading...1\n",
      "Files are downloading...2\n",
      "Files are downloading...3\n",
      "Files are downloading...4\n",
      "Files are downloading...5\n",
      "Files are downloading...6\n",
      "Files are downloading...7\n",
      "Files are downloading...8\n",
      "Files are downloading...9\n",
      "Files are downloading...10\n"
     ]
    }
   ],
   "source": [
    "#Download alle bøgerne, dette kommer til at tage et stykke tid, så find noget kaffe mens du venter.\n",
    "tc.multi_download(urls)"
   ]
  },
  {
   "cell_type": "code",
   "execution_count": 3,
   "metadata": {
    "scrolled": false
   },
   "outputs": [
    {
     "data": {
      "text/plain": [
       "['book1.txt',\n",
       " 'book2.txt',\n",
       " 'book3.txt',\n",
       " 'book4.txt',\n",
       " 'book5.txt',\n",
       " 'book6.txt',\n",
       " 'book7.txt',\n",
       " 'book8.txt',\n",
       " 'book9.txt',\n",
       " 'book10.txt']"
      ]
     },
     "execution_count": 3,
     "metadata": {},
     "output_type": "execute_result"
    }
   ],
   "source": [
    "#Iterator benyttes\n",
    "[filename for filename in urls]"
   ]
  },
  {
   "cell_type": "code",
   "execution_count": 4,
   "metadata": {},
   "outputs": [
    {
     "data": {
      "text/plain": [
       "<generator object TextComparer.urllist_generator at 0x7fe276893950>"
      ]
     },
     "execution_count": 4,
     "metadata": {},
     "output_type": "execute_result"
    }
   ],
   "source": [
    "#Forsøg på benyttelse af urllist_generator\n",
    "tc.urllist_generator(urls)"
   ]
  },
  {
   "cell_type": "code",
   "execution_count": 5,
   "metadata": {},
   "outputs": [
    {
     "data": {
      "text/plain": [
       "(1.9, 'book7.txt')"
      ]
     },
     "execution_count": 5,
     "metadata": {},
     "output_type": "execute_result"
    }
   ],
   "source": [
    "#Gennemsnitelige vokaler i bog 7\n",
    "tc.avg_vowels(tc, \"book7.txt\")"
   ]
  },
  {
   "cell_type": "code",
   "execution_count": 6,
   "metadata": {
    "scrolled": true
   },
   "outputs": [
    {
     "data": {
      "text/plain": [
       "(2.1, 'book8.txt')"
      ]
     },
     "execution_count": 6,
     "metadata": {},
     "output_type": "execute_result"
    }
   ],
   "source": [
    "#Lokalisering af den sværeste bog blandt de 10\n",
    "tc.hardest_read(urls)"
   ]
  },
  {
   "cell_type": "code",
   "execution_count": 24,
   "metadata": {},
   "outputs": [
    {
     "data": {
      "text/plain": [
       "Text(0, 0.5, 'Average Vowels')"
      ]
     },
     "execution_count": 24,
     "metadata": {},
     "output_type": "execute_result"
    },
    {
     "data": {
      "image/png": "[encoded data removed]",
      "text/plain": [
       "<Figure size 1080x360 with 1 Axes>"
      ]
     },
     "metadata": {
      "needs_background": "light"
     },
     "output_type": "display_data"
    }
   ],
   "source": [
    "import matplotlib.pyplot as plt\n",
    "import numpy as np\n",
    "\n",
    "avl = []\n",
    "avl.append(tc.avg_vowels(tc, \"book1.txt\"))\n",
    "avl.append(tc.avg_vowels(tc, \"book2.txt\"))\n",
    "avl.append(tc.avg_vowels(tc, \"book3.txt\"))\n",
    "avl.append(tc.avg_vowels(tc, \"book4.txt\"))\n",
    "avl.append(tc.avg_vowels(tc, \"book5.txt\"))\n",
    "avl.append(tc.avg_vowels(tc, \"book6.txt\"))\n",
    "avl.append(tc.avg_vowels(tc, \"book7.txt\"))\n",
    "avl.append(tc.avg_vowels(tc, \"book8.txt\"))\n",
    "avl.append(tc.avg_vowels(tc, \"book9.txt\"))\n",
    "avl.append(tc.avg_vowels(tc, \"book10.txt\"))\n",
    "\n",
    "avl.sort()\n",
    "\n",
    "plt.figure(figsize=[15, 5])\n",
    "plt.bar([avl[0][1], avl[1][1], avl[2][1], avl[3][1], avl[4][1], avl[5][1], avl[6][1], avl[7][1], avl[8][1], avl[9][1]], [avl[0][0], avl[1][0], avl[2][0], avl[3][0], avl[4][0], avl[5][0], avl[6][0], avl[7][0], avl[8][0], avl[9][0]], width=0.5, align='center')\n",
    "plt.xticks(rotation=45, horizontalalignment='right',fontweight='light')\n",
    "plt.xlabel(\"Filename\", fontsize = 10)\n",
    "plt.ylabel(\"Average Vowels\", fontsize = 10)"
   ]
  }
 ],
 "metadata": {
  "kernelspec": {
   "display_name": "Python 3",
   "language": "python",
   "name": "python3"
  },
  "language_info": {
   "codemirror_mode": {
    "name": "ipython",
    "version": 3
   },
   "file_extension": ".py",
   "mimetype": "text/x-python",
   "name": "python",
   "nbconvert_exporter": "python",
   "pygments_lexer": "ipython3",
   "version": "3.7.6"
  }
 },
 "nbformat": 4,
 "nbformat_minor": 4
}
